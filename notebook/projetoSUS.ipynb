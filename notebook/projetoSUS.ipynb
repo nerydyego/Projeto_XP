{
 "cells": [
  {
   "cell_type": "markdown",
   "id": "a529fddb",
   "metadata": {},
   "source": [
    "# Importação das bibliotecas"
   ]
  },
  {
   "cell_type": "code",
   "execution_count": 2,
   "id": "957d8688",
   "metadata": {},
   "outputs": [],
   "source": [
    "import pandas as pd\n",
    "import matplotlib.pyplot as plt\n",
    "import seaborn as sns\n",
    "import numpy as np\n",
    "import sys\n",
    "sys.path.append('../')"
   ]
  },
  {
   "cell_type": "markdown",
   "id": "8cb37e69",
   "metadata": {},
   "source": [
    "### Importação Funções"
   ]
  },
  {
   "cell_type": "code",
   "execution_count": 3,
   "id": "879c78cd",
   "metadata": {},
   "outputs": [],
   "source": [
    "# Importação bibliateca de funções\n",
    "from src.data_visulization.visualization import *\n",
    "from src.data_visulization.grafico import *\n",
    "from src.data_cleaning.cleaning import drop_duplicados, limpa_dados_NAN"
   ]
  },
  {
   "cell_type": "markdown",
   "id": "c949e140",
   "metadata": {},
   "source": [
    "### Importação Dataset"
   ]
  },
  {
   "cell_type": "code",
   "execution_count": 4,
   "id": "df8ba7f3",
   "metadata": {},
   "outputs": [
    {
     "name": "stdout",
     "output_type": "stream",
     "text": [
      "{'encoding': 'utf-8', 'confidence': 0.99, 'language': ''}\n"
     ]
    }
   ],
   "source": [
    "tipo_encoding('../data/2025.csv')"
   ]
  },
  {
   "cell_type": "code",
   "execution_count": 5,
   "id": "de6c55c2",
   "metadata": {},
   "outputs": [],
   "source": [
    "df = pd.read_csv(\"../data/2025.csv\", sep=';', encoding='utf-8')"
   ]
  },
  {
   "cell_type": "code",
   "execution_count": 6,
   "id": "d628b163",
   "metadata": {},
   "outputs": [
    {
     "data": {
      "text/html": [
       "<div>\n",
       "<style scoped>\n",
       "    .dataframe tbody tr th:only-of-type {\n",
       "        vertical-align: middle;\n",
       "    }\n",
       "\n",
       "    .dataframe tbody tr th {\n",
       "        vertical-align: top;\n",
       "    }\n",
       "\n",
       "    .dataframe thead th {\n",
       "        text-align: right;\n",
       "    }\n",
       "</style>\n",
       "<table border=\"1\" class=\"dataframe\">\n",
       "  <thead>\n",
       "    <tr style=\"text-align: right;\">\n",
       "      <th></th>\n",
       "      <th>ano_compra</th>\n",
       "      <th>nome_instituicao</th>\n",
       "      <th>cnpj_instituicao</th>\n",
       "      <th>municipio_instituicao</th>\n",
       "      <th>uf</th>\n",
       "      <th>compra</th>\n",
       "      <th>insercao</th>\n",
       "      <th>codigo_br</th>\n",
       "      <th>descricao_catmat</th>\n",
       "      <th>unidade_fornecimento</th>\n",
       "      <th>...</th>\n",
       "      <th>cnpj_fornecedor</th>\n",
       "      <th>fornecedor</th>\n",
       "      <th>cnpj_fabricante</th>\n",
       "      <th>fabricante</th>\n",
       "      <th>qtd_itens_comprados</th>\n",
       "      <th>preco_unitario</th>\n",
       "      <th>preco_total</th>\n",
       "      <th>arquivo</th>\n",
       "      <th>pk</th>\n",
       "      <th>dt_criacao_registro</th>\n",
       "    </tr>\n",
       "  </thead>\n",
       "  <tbody>\n",
       "    <tr>\n",
       "      <th>0</th>\n",
       "      <td>2025</td>\n",
       "      <td>MUNICIPIO DE DOURADOQUARA</td>\n",
       "      <td>18158261000108</td>\n",
       "      <td>DOURADOQUARA</td>\n",
       "      <td>MG</td>\n",
       "      <td>2025/01/02 00:00:00.000</td>\n",
       "      <td>2025/04/15 00:00:00.000</td>\n",
       "      <td>267311</td>\n",
       "      <td>METOCLOPRAMIDA CLORIDRATO, DOSAGEM:4 MG/ML, AP...</td>\n",
       "      <td>FRASCO</td>\n",
       "      <td>...</td>\n",
       "      <td>12927876000167</td>\n",
       "      <td>SOMA/MG PRODUTOS HOSPITALARES LTDA</td>\n",
       "      <td>18324343000177</td>\n",
       "      <td>BELFAR LTDA</td>\n",
       "      <td>100</td>\n",
       "      <td>1.4659</td>\n",
       "      <td>146.59</td>\n",
       "      <td>Extracao_Novo_BPS_2025.xlsx</td>\n",
       "      <td>1</td>\n",
       "      <td>2025/07/29 13:20:05.738</td>\n",
       "    </tr>\n",
       "    <tr>\n",
       "      <th>1</th>\n",
       "      <td>2025</td>\n",
       "      <td>SECRETARIA DE ESTADO DE SAUDE - SES</td>\n",
       "      <td>42498717000155</td>\n",
       "      <td>RIO DE JANEIRO</td>\n",
       "      <td>RJ</td>\n",
       "      <td>2025/01/02 00:00:00.000</td>\n",
       "      <td>2025/04/25 00:00:00.000</td>\n",
       "      <td>269843</td>\n",
       "      <td>LIDOCAÍNA CLORIDRATO, DOSAGEM:2%, APRESENTAÇÃO...</td>\n",
       "      <td>AMPOLA</td>\n",
       "      <td>...</td>\n",
       "      <td>47454600000193</td>\n",
       "      <td>GREEN MED DISTRIBUIDORA E IMPORTADORA DE MEDIC...</td>\n",
       "      <td>17174657000178</td>\n",
       "      <td>HYPOFARMA INSTITUTO DE HYPODERMIA E FARMACIA LTDA</td>\n",
       "      <td>3659</td>\n",
       "      <td>1.2400</td>\n",
       "      <td>4537.16</td>\n",
       "      <td>Extracao_Novo_BPS_2025.xlsx</td>\n",
       "      <td>2</td>\n",
       "      <td>2025/07/29 13:20:05.738</td>\n",
       "    </tr>\n",
       "    <tr>\n",
       "      <th>2</th>\n",
       "      <td>2025</td>\n",
       "      <td>MUNICIPIO DE DOURADOQUARA</td>\n",
       "      <td>18158261000108</td>\n",
       "      <td>DOURADOQUARA</td>\n",
       "      <td>MG</td>\n",
       "      <td>2025/01/02 00:00:00.000</td>\n",
       "      <td>2025/04/15 00:00:00.000</td>\n",
       "      <td>294887</td>\n",
       "      <td>SALBUTAMOL, DOSAGEM:100MCG/DOSE, FORMA FARMACÊ...</td>\n",
       "      <td>FRASCO</td>\n",
       "      <td>...</td>\n",
       "      <td>12927876000167</td>\n",
       "      <td>SOMA/MG PRODUTOS HOSPITALARES LTDA</td>\n",
       "      <td>25773037000183</td>\n",
       "      <td>PHARMASCIENCE INDUSTRIA FARMACEUTICA S.A</td>\n",
       "      <td>70</td>\n",
       "      <td>9.8800</td>\n",
       "      <td>691.60</td>\n",
       "      <td>Extracao_Novo_BPS_2025.xlsx</td>\n",
       "      <td>3</td>\n",
       "      <td>2025/07/29 13:20:05.738</td>\n",
       "    </tr>\n",
       "    <tr>\n",
       "      <th>3</th>\n",
       "      <td>2025</td>\n",
       "      <td>MUNICIPIO DE PASSO FUNDO</td>\n",
       "      <td>87612537000190</td>\n",
       "      <td>PASSO FUNDO</td>\n",
       "      <td>RS</td>\n",
       "      <td>2025/01/03 00:00:00.000</td>\n",
       "      <td>2025/03/18 00:00:00.000</td>\n",
       "      <td>268273</td>\n",
       "      <td>NITROFURANTOÍNA, DOSAGEM:100 MG</td>\n",
       "      <td>CÁPSULA</td>\n",
       "      <td>...</td>\n",
       "      <td>42496258000170</td>\n",
       "      <td>METTA FARMACEUTICA LTDA</td>\n",
       "      <td>17159229000176</td>\n",
       "      <td>LABORATORIO TEUTO BRASILEIRO S/A</td>\n",
       "      <td>185000</td>\n",
       "      <td>0.2450</td>\n",
       "      <td>45325.00</td>\n",
       "      <td>Extracao_Novo_BPS_2025.xlsx</td>\n",
       "      <td>4</td>\n",
       "      <td>2025/07/29 13:20:05.738</td>\n",
       "    </tr>\n",
       "    <tr>\n",
       "      <th>4</th>\n",
       "      <td>2025</td>\n",
       "      <td>MUNICIPIO DE PASSO FUNDO</td>\n",
       "      <td>87612537000190</td>\n",
       "      <td>PASSO FUNDO</td>\n",
       "      <td>RS</td>\n",
       "      <td>2025/01/03 00:00:00.000</td>\n",
       "      <td>2025/03/18 00:00:00.000</td>\n",
       "      <td>273400</td>\n",
       "      <td>ISOSSORBIDA, PRINCÍPIO ATIVO:SAL MONONITRATO, ...</td>\n",
       "      <td>COMPRIMIDO</td>\n",
       "      <td>...</td>\n",
       "      <td>12889035000102</td>\n",
       "      <td>INOVAMED HOSPITALAR LTDA</td>\n",
       "      <td>5254971000181</td>\n",
       "      <td>ZYDUS NIKKHO FARMACEUTICA LTDA</td>\n",
       "      <td>140000</td>\n",
       "      <td>0.1599</td>\n",
       "      <td>22386.00</td>\n",
       "      <td>Extracao_Novo_BPS_2025.xlsx</td>\n",
       "      <td>5</td>\n",
       "      <td>2025/07/29 13:20:05.738</td>\n",
       "    </tr>\n",
       "  </tbody>\n",
       "</table>\n",
       "<p>5 rows × 27 columns</p>\n",
       "</div>"
      ],
      "text/plain": [
       "   ano_compra                     nome_instituicao  cnpj_instituicao  \\\n",
       "0        2025            MUNICIPIO DE DOURADOQUARA    18158261000108   \n",
       "1        2025  SECRETARIA DE ESTADO DE SAUDE - SES    42498717000155   \n",
       "2        2025            MUNICIPIO DE DOURADOQUARA    18158261000108   \n",
       "3        2025             MUNICIPIO DE PASSO FUNDO    87612537000190   \n",
       "4        2025             MUNICIPIO DE PASSO FUNDO    87612537000190   \n",
       "\n",
       "  municipio_instituicao  uf                   compra                 insercao  \\\n",
       "0          DOURADOQUARA  MG  2025/01/02 00:00:00.000  2025/04/15 00:00:00.000   \n",
       "1        RIO DE JANEIRO  RJ  2025/01/02 00:00:00.000  2025/04/25 00:00:00.000   \n",
       "2          DOURADOQUARA  MG  2025/01/02 00:00:00.000  2025/04/15 00:00:00.000   \n",
       "3           PASSO FUNDO  RS  2025/01/03 00:00:00.000  2025/03/18 00:00:00.000   \n",
       "4           PASSO FUNDO  RS  2025/01/03 00:00:00.000  2025/03/18 00:00:00.000   \n",
       "\n",
       "   codigo_br                                   descricao_catmat  \\\n",
       "0     267311  METOCLOPRAMIDA CLORIDRATO, DOSAGEM:4 MG/ML, AP...   \n",
       "1     269843  LIDOCAÍNA CLORIDRATO, DOSAGEM:2%, APRESENTAÇÃO...   \n",
       "2     294887  SALBUTAMOL, DOSAGEM:100MCG/DOSE, FORMA FARMACÊ...   \n",
       "3     268273                    NITROFURANTOÍNA, DOSAGEM:100 MG   \n",
       "4     273400  ISOSSORBIDA, PRINCÍPIO ATIVO:SAL MONONITRATO, ...   \n",
       "\n",
       "  unidade_fornecimento  ... cnpj_fornecedor  \\\n",
       "0               FRASCO  ...  12927876000167   \n",
       "1               AMPOLA  ...  47454600000193   \n",
       "2               FRASCO  ...  12927876000167   \n",
       "3              CÁPSULA  ...  42496258000170   \n",
       "4           COMPRIMIDO  ...  12889035000102   \n",
       "\n",
       "                                          fornecedor cnpj_fabricante  \\\n",
       "0                 SOMA/MG PRODUTOS HOSPITALARES LTDA  18324343000177   \n",
       "1  GREEN MED DISTRIBUIDORA E IMPORTADORA DE MEDIC...  17174657000178   \n",
       "2                 SOMA/MG PRODUTOS HOSPITALARES LTDA  25773037000183   \n",
       "3                            METTA FARMACEUTICA LTDA  17159229000176   \n",
       "4                           INOVAMED HOSPITALAR LTDA   5254971000181   \n",
       "\n",
       "                                          fabricante  qtd_itens_comprados  \\\n",
       "0                                        BELFAR LTDA                  100   \n",
       "1  HYPOFARMA INSTITUTO DE HYPODERMIA E FARMACIA LTDA                 3659   \n",
       "2           PHARMASCIENCE INDUSTRIA FARMACEUTICA S.A                   70   \n",
       "3                   LABORATORIO TEUTO BRASILEIRO S/A               185000   \n",
       "4                     ZYDUS NIKKHO FARMACEUTICA LTDA               140000   \n",
       "\n",
       "  preco_unitario preco_total                      arquivo pk  \\\n",
       "0         1.4659      146.59  Extracao_Novo_BPS_2025.xlsx  1   \n",
       "1         1.2400     4537.16  Extracao_Novo_BPS_2025.xlsx  2   \n",
       "2         9.8800      691.60  Extracao_Novo_BPS_2025.xlsx  3   \n",
       "3         0.2450    45325.00  Extracao_Novo_BPS_2025.xlsx  4   \n",
       "4         0.1599    22386.00  Extracao_Novo_BPS_2025.xlsx  5   \n",
       "\n",
       "       dt_criacao_registro  \n",
       "0  2025/07/29 13:20:05.738  \n",
       "1  2025/07/29 13:20:05.738  \n",
       "2  2025/07/29 13:20:05.738  \n",
       "3  2025/07/29 13:20:05.738  \n",
       "4  2025/07/29 13:20:05.738  \n",
       "\n",
       "[5 rows x 27 columns]"
      ]
     },
     "execution_count": 6,
     "metadata": {},
     "output_type": "execute_result"
    }
   ],
   "source": [
    "df.head()"
   ]
  },
  {
   "cell_type": "code",
   "execution_count": 7,
   "id": "5b374b76",
   "metadata": {},
   "outputs": [
    {
     "data": {
      "text/plain": [
       "(2474, 27)"
      ]
     },
     "execution_count": 7,
     "metadata": {},
     "output_type": "execute_result"
    }
   ],
   "source": [
    "df.shape"
   ]
  },
  {
   "cell_type": "code",
   "execution_count": 8,
   "id": "9585da4e",
   "metadata": {},
   "outputs": [
    {
     "name": "stdout",
     "output_type": "stream",
     "text": [
      "<class 'pandas.core.frame.DataFrame'>\n",
      "RangeIndex: 2474 entries, 0 to 2473\n",
      "Data columns (total 27 columns):\n",
      " #   Column                           Non-Null Count  Dtype  \n",
      "---  ------                           --------------  -----  \n",
      " 0   ano_compra                       2474 non-null   int64  \n",
      " 1   nome_instituicao                 2466 non-null   object \n",
      " 2   cnpj_instituicao                 2474 non-null   int64  \n",
      " 3   municipio_instituicao            2474 non-null   object \n",
      " 4   uf                               2474 non-null   object \n",
      " 5   compra                           2474 non-null   object \n",
      " 6   insercao                         2474 non-null   object \n",
      " 7   codigo_br                        2474 non-null   int64  \n",
      " 8   descricao_catmat                 2474 non-null   object \n",
      " 9   unidade_fornecimento             2474 non-null   object \n",
      " 10  generico                         1506 non-null   object \n",
      " 11  anvisa                           1506 non-null   float64\n",
      " 12  modalidade_compra                2474 non-null   object \n",
      " 13  tipo_compra                      2474 non-null   object \n",
      " 14  capacidade                       930 non-null    float64\n",
      " 15  unidade_medida                   930 non-null    object \n",
      " 16  unidade_fornecimento_capacidade  2474 non-null   object \n",
      " 17  cnpj_fornecedor                  2474 non-null   int64  \n",
      " 18  fornecedor                       2474 non-null   object \n",
      " 19  cnpj_fabricante                  2474 non-null   int64  \n",
      " 20  fabricante                       2474 non-null   object \n",
      " 21  qtd_itens_comprados              2474 non-null   int64  \n",
      " 22  preco_unitario                   2474 non-null   float64\n",
      " 23  preco_total                      2474 non-null   float64\n",
      " 24  arquivo                          2474 non-null   object \n",
      " 25  pk                               2474 non-null   int64  \n",
      " 26  dt_criacao_registro              2474 non-null   object \n",
      "dtypes: float64(4), int64(7), object(16)\n",
      "memory usage: 522.0+ KB\n"
     ]
    }
   ],
   "source": [
    "df.info()"
   ]
  },
  {
   "cell_type": "code",
   "execution_count": 9,
   "id": "34730d81",
   "metadata": {},
   "outputs": [
    {
     "data": {
      "text/plain": [
       "ano_compra                          0.000000\n",
       "nome_instituicao                    0.323363\n",
       "cnpj_instituicao                    0.000000\n",
       "municipio_instituicao               0.000000\n",
       "uf                                  0.000000\n",
       "compra                              0.000000\n",
       "insercao                            0.000000\n",
       "codigo_br                           0.000000\n",
       "descricao_catmat                    0.000000\n",
       "unidade_fornecimento                0.000000\n",
       "generico                           39.126920\n",
       "anvisa                             39.126920\n",
       "modalidade_compra                   0.000000\n",
       "tipo_compra                         0.000000\n",
       "capacidade                         62.409054\n",
       "unidade_medida                     62.409054\n",
       "unidade_fornecimento_capacidade     0.000000\n",
       "cnpj_fornecedor                     0.000000\n",
       "fornecedor                          0.000000\n",
       "cnpj_fabricante                     0.000000\n",
       "fabricante                          0.000000\n",
       "qtd_itens_comprados                 0.000000\n",
       "preco_unitario                      0.000000\n",
       "preco_total                         0.000000\n",
       "arquivo                             0.000000\n",
       "pk                                  0.000000\n",
       "dt_criacao_registro                 0.000000\n",
       "dtype: float64"
      ]
     },
     "execution_count": 9,
     "metadata": {},
     "output_type": "execute_result"
    }
   ],
   "source": [
    "# Analisando percentual de dados faltantes\n",
    "dados_na = df.isna().sum()\n",
    "percentual_na = (dados_na / len(df)) * 100\n",
    "percentual_na"
   ]
  },
  {
   "cell_type": "code",
   "execution_count": 10,
   "id": "f84b9ed3",
   "metadata": {},
   "outputs": [],
   "source": [
    "# Excluir categorias (unidade_medida e capacidade), pois sua informação não irão acressentar ao estudo\n",
    "df = df.drop(columns=['unidade_medida', 'capacidade', 'anvisa','arquivo'])\n",
    "\n"
   ]
  },
  {
   "cell_type": "code",
   "execution_count": 18,
   "id": "d0c30279",
   "metadata": {},
   "outputs": [
    {
     "name": "stdout",
     "output_type": "stream",
     "text": [
      "      ano_compra nome_instituicao  cnpj_instituicao municipio_instituicao  uf  \\\n",
      "1181        2025              NaN    11785981000146         MANOEL EMIDIO  PI   \n",
      "1198        2025              NaN    11785981000146         MANOEL EMIDIO  PI   \n",
      "1201        2025              NaN    11785981000146         MANOEL EMIDIO  PI   \n",
      "\n",
      "                       compra                 insercao  codigo_br  \\\n",
      "1181  2025/02/06 00:00:00.000  2025/05/09 00:00:00.000     323095   \n",
      "1198  2025/02/06 00:00:00.000  2025/05/09 00:00:00.000     270140   \n",
      "1201  2025/02/06 00:00:00.000  2025/05/09 00:00:00.000     296302   \n",
      "\n",
      "                                       descricao_catmat unidade_fornecimento  \\\n",
      "1181  BROMAZEPAM, DOSAGEM:6 MG, FORMA FARMACÊUTICA:L...              CÁPSULA   \n",
      "1198                           BIPERIDENO, DOSAGEM:2 MG           COMPRIMIDO   \n",
      "1201  PAROXETINA CLORIDRATO, DOSAGEM:25 MG, FORMA FA...           COMPRIMIDO   \n",
      "\n",
      "      ... unidade_fornecimento_capacidade cnpj_fornecedor       fornecedor  \\\n",
      "1181  ...                         CÁPSULA  10436813000182  MAIS SAUDE LTDA   \n",
      "1198  ...                      COMPRIMIDO  10436813000182  MAIS SAUDE LTDA   \n",
      "1201  ...                      COMPRIMIDO  10436813000182  MAIS SAUDE LTDA   \n",
      "\n",
      "     cnpj_fabricante                                      fabricante  \\\n",
      "1181  60666000000000         UNIAO QUIMICA FARMACEUTICA NACIONAL S A   \n",
      "1198  44734700000000  CRISTALIA PRODUTOS QUIMICOS FARMACEUTICOS LTDA   \n",
      "1201   2814500000000                            CIMED INDUSTRIA S.A.   \n",
      "\n",
      "     qtd_itens_comprados  preco_unitario preco_total    pk  \\\n",
      "1181                2000            0.19       380.0  1182   \n",
      "1198               27500            0.33      9075.0  1199   \n",
      "1201               12500            0.24      3000.0  1202   \n",
      "\n",
      "          dt_criacao_registro  \n",
      "1181  2025/07/29 13:20:05.738  \n",
      "1198  2025/07/29 13:20:05.738  \n",
      "1201  2025/07/29 13:20:05.738  \n",
      "\n",
      "[3 rows x 23 columns]\n"
     ]
    }
   ],
   "source": [
    "# Limpeza dos dados faltantes\n",
    "# limpa_dados_NAN(df)\n",
    "nome_inst_nan = df['nome_instituicao'].isna()\n",
    "print(df[nome_inst_nan])"
   ]
  },
  {
   "cell_type": "code",
   "execution_count": 17,
   "id": "a8ec7448",
   "metadata": {},
   "outputs": [
    {
     "name": "stdout",
     "output_type": "stream",
     "text": [
      "      ano_compra     nome_instituicao  cnpj_instituicao municipio_instituicao  \\\n",
      "615         2025  SECRETARIA DA SAUDE    87958625000149          PORTO ALEGRE   \n",
      "616         2025  SECRETARIA DA SAUDE    87958625000149          PORTO ALEGRE   \n",
      "1157        2025  SECRETARIA DA SAUDE    87958625000149          PORTO ALEGRE   \n",
      "1163        2025  SECRETARIA DA SAUDE    87958625000149          PORTO ALEGRE   \n",
      "1164        2025  SECRETARIA DA SAUDE    87958625000149          PORTO ALEGRE   \n",
      "1221        2025  SECRETARIA DA SAUDE    87958625000149          PORTO ALEGRE   \n",
      "1232        2025  SECRETARIA DA SAUDE    87958625000149          PORTO ALEGRE   \n",
      "1242        2025  SECRETARIA DA SAUDE    87958625000149          PORTO ALEGRE   \n",
      "1262        2025  SECRETARIA DA SAUDE    87958625000149          PORTO ALEGRE   \n",
      "1291        2025  SECRETARIA DA SAUDE    87958625000149          PORTO ALEGRE   \n",
      "1305        2025                  NaN    87958625000149          PORTO ALEGRE   \n",
      "1311        2025                  NaN    87958625000149          PORTO ALEGRE   \n",
      "1313        2025                  NaN    87958625000149          PORTO ALEGRE   \n",
      "\n",
      "      uf                   compra                 insercao  codigo_br  \\\n",
      "615   RS  2025/01/27 00:00:00.000  2025/03/14 00:00:00.000     455395   \n",
      "616   RS  2025/01/27 00:00:00.000  2025/03/14 00:00:00.000     444570   \n",
      "1157  RS  2025/02/04 00:00:00.000  2025/03/14 00:00:00.000     363597   \n",
      "1163  RS  2025/02/04 00:00:00.000  2025/03/14 00:00:00.000     267671   \n",
      "1164  RS  2025/02/04 00:00:00.000  2025/03/14 00:00:00.000     268376   \n",
      "1221  RS  2025/02/10 00:00:00.000  2025/03/14 00:00:00.000     270990   \n",
      "1232  RS  2025/02/10 00:00:00.000  2025/03/14 00:00:00.000     485127   \n",
      "1242  RS  2025/02/10 00:00:00.000  2025/03/14 00:00:00.000     428425   \n",
      "1262  RS  2025/02/12 00:00:00.000  2025/03/14 00:00:00.000     267077   \n",
      "1291  RS  2025/02/12 00:00:00.000  2025/03/14 00:00:00.000     309094   \n",
      "1305  RS  2025/02/13 00:00:00.000  2025/03/14 00:00:00.000     292194   \n",
      "1311  RS  2025/02/13 00:00:00.000  2025/03/14 00:00:00.000     267662   \n",
      "1313  RS  2025/02/13 00:00:00.000  2025/03/14 00:00:00.000     376767   \n",
      "\n",
      "                                       descricao_catmat unidade_fornecimento  \\\n",
      "615   USTEQUINUMABE, CONCENTRAÇÃO:5 MG/ML, FORMA FAR...               FRASCO   \n",
      "616   FORMOTEROL FUMARATO, COMPOSIÇÃO:ASSOCIADO À FL...              CÁPSULA   \n",
      "1157  PERMETRINA, CONCENTRAÇÃO:50 MG/ML, FORMA FARMA...               FRASCO   \n",
      "1163                        GLIBENCLAMIDA, DOSAGEM:5 MG           COMPRIMIDO   \n",
      "1164   ALBUMINA HUMANA, CONCENTRAÇÃO:20%, USO:INJETÁVEL               FRASCO   \n",
      "1221         COLESTIRAMINA, DOSAGEM:4G, APRESENTAÇÃO:PÓ             ENVELOPE   \n",
      "1232  EZETIMIBA, COMPOSIÇÃO:ASSOCIADO À ROSUVASTATIN...              CÁPSULA   \n",
      "1242  DIOSMINA, COMPOSIÇÃO:ASSOCIADA À HESPERIDINA, ...           COMPRIMIDO   \n",
      "1262                        BEZAFIBRATO, DOSAGEM:200 MG           COMPRIMIDO   \n",
      "1291  FORMOTEROL FUMARATO, COMPOSIÇÃO:ASSOCIADO COM ...               FRASCO   \n",
      "1305  HALOPERIDOL, APRESENTAÇÃO:SAL DECANOATO, CONCE...               AMPOLA   \n",
      "1311                         FLUCONAZOL, DOSAGEM:150 MG              CÁPSULA   \n",
      "1313                     IVERMECTINA, CONCENTRAÇÃO:6 MG           COMPRIMIDO   \n",
      "\n",
      "      ... unidade_fornecimento_capacidade cnpj_fornecedor  \\\n",
      "615   ...                 FRASCO 26.00 ML  51780468000268   \n",
      "616   ...                         CÁPSULA   4071245000160   \n",
      "1157  ...                 FRASCO 60.00 ML    802002000102   \n",
      "1163  ...                      COMPRIMIDO   6294126000100   \n",
      "1164  ...                 FRASCO 50.00 ML  92132786000119   \n",
      "1221  ...                        ENVELOPE   4307650001298   \n",
      "1232  ...                         CÁPSULA   5782733000149   \n",
      "1242  ...                      COMPRIMIDO  94389400000184   \n",
      "1262  ...                      COMPRIMIDO   6294126000100   \n",
      "1291  ...              FRASCO 60.00 DOSES     88317000121   \n",
      "1305  ...                  AMPOLA 1.00 ML  44734671002286   \n",
      "1311  ...                         CÁPSULA   6294126000100   \n",
      "1313  ...                      COMPRIMIDO  94389400000184   \n",
      "\n",
      "                                             fornecedor cnpj_fabricante  \\\n",
      "615                     JANSSEN-CILAG FARMACEUTICA LTDA  51780468000187   \n",
      "616   LICIMED DISTRIBUIDORA DE MEDICAMENTOS, CORRELA...  61190096000192   \n",
      "1157           ALTERMED MATERIAL MEDICO HOSPITALAR LTDA  65271900000119   \n",
      "1163                    RS - PRODUTOS HOSPITALARES LTDA   3485572000104   \n",
      "1164         CRISTAL DISTRIBUIDORA DE MEDICAMENTOS LTDA   2513899000171   \n",
      "1221  ONCO PROD DISTRIBUIDORA DE PRODUTOS HOSPITALAR...   7591326000180   \n",
      "1232       CIAMED - DISTRIBUIDORA DE MEDICAMENTOS LTDA.  61230314000175   \n",
      "1242           MCW PRODUTOS MEDICOS E HOSPITALARES LTDA  30222814000131   \n",
      "1262                    RS - PRODUTOS HOSPITALARES LTDA  57507378000365   \n",
      "1291    VICTORIA COMERCIO DE PRODUTOS HOSPITALARES LTDA  60318797000100   \n",
      "1305     CRISTALIA PRODUTOS QUIMICOS FARMACEUTICOS LTDA  44734671000151   \n",
      "1311                    RS - PRODUTOS HOSPITALARES LTDA  17875154000120   \n",
      "1313           MCW PRODUTOS MEDICOS E HOSPITALARES LTDA  30222814000131   \n",
      "\n",
      "                                             fabricante qtd_itens_comprados  \\\n",
      "615                     JANSSEN-CILAG FARMACEUTICA LTDA                 300   \n",
      "616                         EUROFARMA LABORATORIOS S.A.               69700   \n",
      "1157                 NATIVITA INDUSTRIA E COMERCIO LTDA              724200   \n",
      "1163                  GEOLAB INDUSTRIA FARMACEUTICA S/A               97600   \n",
      "1164                                GRIFOLS BRASIL LTDA                1000   \n",
      "1221  MOKSHA8 BRASIL INDUSTRIA E COMERCIO DE MEDICAM...               27000   \n",
      "1232                            LIBBS FARMACEUTICA LTDA               35650   \n",
      "1242              VITAMEDIC INDUSTRIA FARMACEUTICA LTDA              186150   \n",
      "1262                                            EMS S/A                6600   \n",
      "1291                        ASTRAZENECA DO BRASIL LTDA.               72000   \n",
      "1305     CRISTALIA PRODUTOS QUIMICOS FARMACEUTICOS LTDA                5560   \n",
      "1311            MEDQUIMICA INDUSTRIA FARMACEUTICA LTDA.               12550   \n",
      "1313              VITAMEDIC INDUSTRIA FARMACEUTICA LTDA               37200   \n",
      "\n",
      "      preco_unitario preco_total    pk      dt_criacao_registro  \n",
      "615       26314.2600  7894278.00   616  2025/07/29 13:20:05.738  \n",
      "616           1.2200    85034.00   617  2025/07/29 13:20:05.738  \n",
      "1157          0.0610    44176.20  1158  2025/07/29 13:20:05.738  \n",
      "1163          0.0350     3416.00  1164  2025/07/29 13:20:05.738  \n",
      "1164          3.5000     3500.00  1165  2025/07/29 13:20:05.738  \n",
      "1221          6.3100   170370.00  1222  2025/07/29 13:20:05.738  \n",
      "1232          1.8500    65952.50  1233  2025/07/29 13:20:05.738  \n",
      "1242          1.1500   214072.50  1243  2025/07/29 13:20:05.738  \n",
      "1262          0.9500     6270.00  1263  2025/07/29 13:20:05.738  \n",
      "1291          1.6530   119016.00  1292  2025/07/29 13:20:05.738  \n",
      "1305          3.8500    21406.00  1306  2025/07/29 13:20:05.738  \n",
      "1311          0.4200     5271.00  1312  2025/07/29 13:20:05.738  \n",
      "1313          0.1948     7246.56  1314  2025/07/29 13:20:05.738  \n",
      "\n",
      "[13 rows x 23 columns]\n",
      "SECRETARIA DA SAUDE\n"
     ]
    }
   ],
   "source": [
    "cnpj_nan = df['cnpj_instituicao'] == 87958625000149\n",
    "print(df[cnpj_nan])\n",
    "\n",
    "# Encontrar o valor do CNPJ que você deseja copiar para o NaN\n",
    "cnpj_valor = df[df['cnpj_instituicao'] == 87958625000149]['nome_instituicao'].iloc[0]\n",
    "print(cnpj_valor)\n",
    "# # Atualizar o valor NaN na coluna 'coluna_desejada' com o valor encontrado\n",
    "df.loc[df['cnpj_instituicao'] == 87958625000149, 'nome_instituicao'] = cnpj_valor\n"
   ]
  },
  {
   "cell_type": "code",
   "execution_count": 19,
   "id": "ec13b50c",
   "metadata": {},
   "outputs": [],
   "source": [
    "# Deletar todos os registro com nome de instituição com registro NA\n",
    "nome_inst_nan = df['nome_instituicao'].isna()\n",
    "df = df.dropna(subset=['nome_instituicao'])"
   ]
  },
  {
   "cell_type": "code",
   "execution_count": 22,
   "id": "5ec0cf22",
   "metadata": {},
   "outputs": [
    {
     "data": {
      "text/plain": [
       "generico\n",
       "Desconhecido    39.053015\n",
       "N               30.716309\n",
       "S               30.230676\n",
       "Name: count, dtype: float64"
      ]
     },
     "execution_count": 22,
     "metadata": {},
     "output_type": "execute_result"
    }
   ],
   "source": [
    "genericos_na = df['generico'].value_counts()\n",
    "porcentagem = (genericos_na / len(df)) *100\n",
    "porcentagem"
   ]
  },
  {
   "cell_type": "code",
   "execution_count": 21,
   "id": "06c912fc",
   "metadata": {},
   "outputs": [
    {
     "name": "stderr",
     "output_type": "stream",
     "text": [
      "C:\\Users\\dyego\\AppData\\Local\\Temp\\ipykernel_9096\\1277398792.py:2: FutureWarning: A value is trying to be set on a copy of a DataFrame or Series through chained assignment using an inplace method.\n",
      "The behavior will change in pandas 3.0. This inplace method will never work because the intermediate object on which we are setting values always behaves as a copy.\n",
      "\n",
      "For example, when doing 'df[col].method(value, inplace=True)', try using 'df.method({col: value}, inplace=True)' or df[col] = df[col].method(value) instead, to perform the operation inplace on the original object.\n",
      "\n",
      "\n",
      "  df['generico'].fillna('Desconhecido', inplace=True)\n"
     ]
    }
   ],
   "source": [
    "# como os dados de genericos podem ser utilizados em algum momento, irei manter, mas criarei um categoria (desconhecido).\n",
    "df['generico'].fillna('Desconhecido', inplace=True)"
   ]
  },
  {
   "cell_type": "code",
   "execution_count": 23,
   "id": "46e32f6b",
   "metadata": {},
   "outputs": [
    {
     "name": "stdout",
     "output_type": "stream",
     "text": [
      "<class 'pandas.core.frame.DataFrame'>\n",
      "Index: 2471 entries, 0 to 2473\n",
      "Data columns (total 23 columns):\n",
      " #   Column                           Non-Null Count  Dtype  \n",
      "---  ------                           --------------  -----  \n",
      " 0   ano_compra                       2471 non-null   int64  \n",
      " 1   nome_instituicao                 2471 non-null   object \n",
      " 2   cnpj_instituicao                 2471 non-null   int64  \n",
      " 3   municipio_instituicao            2471 non-null   object \n",
      " 4   uf                               2471 non-null   object \n",
      " 5   compra                           2471 non-null   object \n",
      " 6   insercao                         2471 non-null   object \n",
      " 7   codigo_br                        2471 non-null   int64  \n",
      " 8   descricao_catmat                 2471 non-null   object \n",
      " 9   unidade_fornecimento             2471 non-null   object \n",
      " 10  generico                         2471 non-null   object \n",
      " 11  modalidade_compra                2471 non-null   object \n",
      " 12  tipo_compra                      2471 non-null   object \n",
      " 13  unidade_fornecimento_capacidade  2471 non-null   object \n",
      " 14  cnpj_fornecedor                  2471 non-null   int64  \n",
      " 15  fornecedor                       2471 non-null   object \n",
      " 16  cnpj_fabricante                  2471 non-null   int64  \n",
      " 17  fabricante                       2471 non-null   object \n",
      " 18  qtd_itens_comprados              2471 non-null   int64  \n",
      " 19  preco_unitario                   2471 non-null   float64\n",
      " 20  preco_total                      2471 non-null   float64\n",
      " 21  pk                               2471 non-null   int64  \n",
      " 22  dt_criacao_registro              2471 non-null   object \n",
      "dtypes: float64(2), int64(7), object(14)\n",
      "memory usage: 463.3+ KB\n"
     ]
    }
   ],
   "source": [
    "df.info()"
   ]
  },
  {
   "cell_type": "code",
   "execution_count": 28,
   "id": "081943cc",
   "metadata": {},
   "outputs": [
    {
     "name": "stdout",
     "output_type": "stream",
     "text": [
      "Nenhum registro duplicado encontrado.\n"
     ]
    },
    {
     "data": {
      "text/html": [
       "<div>\n",
       "<style scoped>\n",
       "    .dataframe tbody tr th:only-of-type {\n",
       "        vertical-align: middle;\n",
       "    }\n",
       "\n",
       "    .dataframe tbody tr th {\n",
       "        vertical-align: top;\n",
       "    }\n",
       "\n",
       "    .dataframe thead th {\n",
       "        text-align: right;\n",
       "    }\n",
       "</style>\n",
       "<table border=\"1\" class=\"dataframe\">\n",
       "  <thead>\n",
       "    <tr style=\"text-align: right;\">\n",
       "      <th></th>\n",
       "      <th>ano_compra</th>\n",
       "      <th>nome_instituicao</th>\n",
       "      <th>cnpj_instituicao</th>\n",
       "      <th>municipio_instituicao</th>\n",
       "      <th>uf</th>\n",
       "      <th>compra</th>\n",
       "      <th>insercao</th>\n",
       "      <th>codigo_br</th>\n",
       "      <th>descricao_catmat</th>\n",
       "      <th>unidade_fornecimento</th>\n",
       "      <th>...</th>\n",
       "      <th>unidade_fornecimento_capacidade</th>\n",
       "      <th>cnpj_fornecedor</th>\n",
       "      <th>fornecedor</th>\n",
       "      <th>cnpj_fabricante</th>\n",
       "      <th>fabricante</th>\n",
       "      <th>qtd_itens_comprados</th>\n",
       "      <th>preco_unitario</th>\n",
       "      <th>preco_total</th>\n",
       "      <th>pk</th>\n",
       "      <th>dt_criacao_registro</th>\n",
       "    </tr>\n",
       "  </thead>\n",
       "  <tbody>\n",
       "  </tbody>\n",
       "</table>\n",
       "<p>0 rows × 23 columns</p>\n",
       "</div>"
      ],
      "text/plain": [
       "Empty DataFrame\n",
       "Columns: [ano_compra, nome_instituicao, cnpj_instituicao, municipio_instituicao, uf, compra, insercao, codigo_br, descricao_catmat, unidade_fornecimento, generico, modalidade_compra, tipo_compra, unidade_fornecimento_capacidade, cnpj_fornecedor, fornecedor, cnpj_fabricante, fabricante, qtd_itens_comprados, preco_unitario, preco_total, pk, dt_criacao_registro]\n",
       "Index: []\n",
       "\n",
       "[0 rows x 23 columns]"
      ]
     },
     "execution_count": 28,
     "metadata": {},
     "output_type": "execute_result"
    }
   ],
   "source": [
    "visuliza_duplicados(df)"
   ]
  },
  {
   "cell_type": "markdown",
   "id": "768efcc3",
   "metadata": {},
   "source": [
    "### Converção para um csv final"
   ]
  },
  {
   "cell_type": "code",
   "execution_count": 27,
   "id": "a2864b80",
   "metadata": {},
   "outputs": [
    {
     "name": "stdout",
     "output_type": "stream",
     "text": [
      "Arquivo CSV salvo com sucesso em: ..\\data\\df_final_2025.csv\n"
     ]
    }
   ],
   "source": [
    "converter_para_csv(df, '..\\data\\df_final_2025.csv')"
   ]
  },
  {
   "cell_type": "markdown",
   "id": "c3cb981d",
   "metadata": {},
   "source": [
    "#### Documentação dos dados\n",
    "* <str>Codigo BR</str> Código do item, conforme o Catálogo de Materiais (CATMAT), este código é um identificador único utilizado para padronizar os produtos no mercado de saúde brasileiro, facilitando a comparação de preços e a consulta de dados.\n",
    "* <str>Descrição CATMAT</str> Descrição do item conforme o Catálogo de Materiais (CATMAT), que especifica o nome e as características do medicamento ou insumo, padronizando a nomenclatura para facilitar a identificação.\n",
    "* <str>Unidade de Fornecimento</str> Unidade na qual o item é fornecido e comercializado (ex.: comprimido, ampola, frasco). Define a forma de apresentação do produto para padronização e comparabilidade nas aquisições de insumos de saúde.\n",
    "* <str>Generico</str> Indica se o item é um medicamento genérico, conforme a regulamentação da Agência Nacional de Vigilância Sanitária (Anvisa).\n",
    "* <str>Compra</str> Data da compra informada pela instituição compradora.\n",
    "* <str>Modalidade da Compra</str> Modalidade utilizada para a aquisição do item, como licitação, pregão, compra direta, entre outras, conforme a legislação de compras públicas. A modalidade define o processo seguido na aquisição do item.\n",
    "* <str>Insercao</str> Data de inserção da informação no sistema BPS, permitindo o acompanhamento e a atualização dos registros ao longo do tempo.\n",
    "* <str>Tipo de compra</str> Tipo Compra Classificação da compra, como emergencial, regular, entre outras, para indicar o contexto ou a natureza da aquisição. Este campo ajuda a contextualizar a necessidade e a urgência da compra realizada\n",
    "* <str>Fabricante</str> Nome da empresa que fabrica o medicamento ou insumo adquirido. O fabricante é responsável pela produção e qualidade do produto.\n",
    "* <str>CNPJ Fabricante</str> Cadastro Nacional da Pessoa Jurídica (CNPJ) do fabricante, utilizado para identificar a empresa responsável pela produção do medicamento ou insumo no mercado brasileiro.\n",
    "* <str>Fornecedor</str> Nome da empresa que forneceu o item à instituição. O fornecedor é responsável pela entrega do produto, muitas vezes em parceria com o fabricante.\n",
    "* <str>CNPJ Fornecedor</str> Cadastro Nacional da Pessoa Jurídica (CNPJ) do fornecedor, utilizado para identificar a empresa que realizou a venda e entrega do produto à instituição.\n",
    "* <str>Nome Instituição</str> Nome da instituição que realizou a compra do item, como hospitais, secretarias de saúde e outras entidades do Sistema Único de Saúde (SUS) ou privadas.\n",
    "* <str>CNPJ Instituição</str> Cadastro Nacional da Pessoa Jurídica (CNPJ) da instituição compradora, que identifica a entidade responsável pela aquisição do item.\n",
    "* <str>Município Instituição</str>Município onde a instituição compradora está localizada. Este campo permite análises geográficas sobre a distribuição das aquisições\n",
    "* <str>UF</str> Unidade Federativa (UF) da instituição compradora. Identifica o estado brasileiro em que a instituição está localizada.\n",
    "* <str>Qtd Itens Comprados</str> Quantidade do item adquirida na transação. Informa o volume comprado pela instituição e permite análises de demanda e consumo\n",
    "* <str>Preco Unitario</str> Preço pago por unidade do item adquirido. Este valor é informado com base no valor efetivamente negociado e permite a comparação de preços entre diferentes compras e fornecedores.\n",
    "\n"
   ]
  }
 ],
 "metadata": {
  "kernelspec": {
   "display_name": "AED",
   "language": "python",
   "name": "python3"
  },
  "language_info": {
   "codemirror_mode": {
    "name": "ipython",
    "version": 3
   },
   "file_extension": ".py",
   "mimetype": "text/x-python",
   "name": "python",
   "nbconvert_exporter": "python",
   "pygments_lexer": "ipython3",
   "version": "3.11.3"
  }
 },
 "nbformat": 4,
 "nbformat_minor": 5
}
